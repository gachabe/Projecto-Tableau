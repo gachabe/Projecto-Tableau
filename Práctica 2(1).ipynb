{
 "cells": [
  {
   "cell_type": "markdown",
   "metadata": {},
   "source": [
    "# Grupo 15: Gabriel Chaves y Lucía Martínez"
   ]
  },
  {
   "cell_type": "markdown",
   "metadata": {},
   "source": [
    "# Creación del algoritmo RSK"
   ]
  },
  {
   "cell_type": "markdown",
   "metadata": {},
   "source": [
    "Primero construyamos una función que dada una matriz nos devuelva su permutación asociada"
   ]
  },
  {
   "cell_type": "code",
   "execution_count": 4,
   "metadata": {},
   "outputs": [
    {
     "data": {
      "text/html": [
       "<html><script type=\"math/tex; mode=display\">\\newcommand{\\Bold}[1]{\\mathbf{#1}}\\left(\\begin{array}{rrrrrrr}\n",
       "1 & 1 & 1 & 2 & 2 & 3 & 3 \\\\\n",
       "1 & 3 & 4 & 2 & 3 & 1 & 2\n",
       "\\end{array}\\right)</script></html>"
      ],
      "text/latex": [
       "\\begin{math}\n",
       "\\newcommand{\\Bold}[1]{\\mathbf{#1}}\\left(\\begin{array}{rrrrrrr}\n",
       "1 & 1 & 1 & 2 & 2 & 3 & 3 \\\\\n",
       "1 & 3 & 4 & 2 & 3 & 1 & 2\n",
       "\\end{array}\\right)\n",
       "\\end{math}"
      ],
      "text/plain": [
       "[1 1 1 2 2 3 3]\n",
       "[1 3 4 2 3 1 2]"
      ]
     },
     "metadata": {},
     "output_type": "display_data"
    }
   ],
   "source": [
    "\n",
    "A=matrix([[1,0,1,1],[0,1,1,0],[1,1,0,0]])#este es el ejemplo del libro, lo usaremos para mostrar nuestro código\n",
    "\n",
    "\n",
    "def repite_n(n,a):# Esta función nos da una lista con el elemento a repetido n veces\n",
    "    L=[]\n",
    "    while n!=0:\n",
    "        L=L+[a]\n",
    "        n=n-1\n",
    "    return L\n",
    "    \n",
    "def matrx2perm(A): #Aquí nos da la permutación, debido a la rigidez de las permutaciones en Sage nos tomaremos la libertad de \n",
    "    U=[]           #darlo como matriz\n",
    "    D=[]\n",
    "    f=A.nrows()\n",
    "    c=A.ncols()\n",
    "    for i in range(f):\n",
    "        for j in range(c):\n",
    "            U=U+(repite_n(A[i,j],i+1))\n",
    "            D=D+(repite_n(A[i,j],j+1))\n",
    "    return ([U,D])\n",
    "\n"
   ]
  },
  {
   "cell_type": "code",
   "execution_count": 12,
   "metadata": {},
   "outputs": [
    {
     "data": {
      "text/html": [
       "<html><script type=\"math/tex; mode=display\">\\newcommand{\\Bold}[1]{\\mathbf{#1}}\\left(\\begin{array}{rrrr}\n",
       "1 & 0 & 1 & 1 \\\\\n",
       "0 & 1 & 1 & 0 \\\\\n",
       "1 & 1 & 0 & 0\n",
       "\\end{array}\\right) \\left(\\begin{array}{rrrrrrr}\n",
       "1 & 1 & 1 & 2 & 2 & 3 & 3 \\\\\n",
       "1 & 3 & 4 & 2 & 3 & 1 & 2\n",
       "\\end{array}\\right)</script></html>"
      ],
      "text/latex": [
       "\\begin{math}\n",
       "\\newcommand{\\Bold}[1]{\\mathbf{#1}}\\left(\\begin{array}{rrrr}\n",
       "1 & 0 & 1 & 1 \\\\\n",
       "0 & 1 & 1 & 0 \\\\\n",
       "1 & 1 & 0 & 0\n",
       "\\end{array}\\right) \\left(\\begin{array}{rrrrrrr}\n",
       "1 & 1 & 1 & 2 & 2 & 3 & 3 \\\\\n",
       "1 & 3 & 4 & 2 & 3 & 1 & 2\n",
       "\\end{array}\\right)\n",
       "\\end{math}"
      ],
      "text/plain": [
       "[1 0 1 1]\n",
       "[0 1 1 0]\n",
       "[1 1 0 0] [1 1 1 2 2 3 3]\n",
       "[1 3 4 2 3 1 2]"
      ]
     },
     "metadata": {},
     "output_type": "display_data"
    }
   ],
   "source": [
    "show(A, matrix(matrx2perm(A)))"
   ]
  },
  {
   "cell_type": "markdown",
   "metadata": {},
   "source": [
    "## Funciones auxiliares"
   ]
  },
  {
   "cell_type": "code",
   "execution_count": 14,
   "metadata": {},
   "outputs": [],
   "source": [
    "#Creamos dos funciones auxiliares\n",
    "#La primera da la lista L quitando el primer elemento x >a\n",
    "\n",
    "\n",
    "def cumpleP(L,a):\n",
    "    for i in range(len(L)):\n",
    "        Li=L\n",
    "        if L[i]> a:\n",
    "            x=L[i]\n",
    "            del(L[i])\n",
    "            L=L+[a]\n",
    "            L.sort()\n",
    "            break           \n",
    "    return ([L,x])\n",
    "\n",
    "\n",
    "\n",
    "\n",
    "\n",
    "# Esta función es la base de nuestro algoritmo ya que nos va dando las sucesivas filas de P y Q con sus elementos colocados y\n",
    "#guarda en una auxiliar los elementos de las filas siguientes por colocar \n",
    "\n",
    "\n",
    "def creaPQaux(L1,L2):\n",
    "    D1=L1\n",
    "    D2=L2\n",
    "    aux1=[]\n",
    "    aux2=[]\n",
    "    aux3=[]\n",
    "    aux4=[]\n",
    "    while len(D1)>0:   \n",
    "        if aux1==[]:\n",
    "            aux1=aux1+[D1[0]]\n",
    "            del(D1[0])\n",
    "            aux3=aux3+[D2[0]]\n",
    "            del(D2[0])\n",
    "        elif max(aux1) > D1[0]:\n",
    "            [L,c]=(cumpleP(aux1,D1[0]))\n",
    "            aux1=L\n",
    "            aux2=aux2+[c]\n",
    "            aux4=aux4+[D2[0]]\n",
    "            del(D1[0])\n",
    "            del(D2[0])\n",
    "        elif max(aux1) <= D1[0]:\n",
    "            aux1=aux1+[D1[0]]\n",
    "            aux3=aux3+[D2[0]]\n",
    "            del(D1[0])\n",
    "            del(D2[0])\n",
    "    return [aux1,aux2,aux3,aux4]\n"
   ]
  },
  {
   "cell_type": "markdown",
   "metadata": {},
   "source": [
    "## Generación de los tableaux P y Q "
   ]
  },
  {
   "cell_type": "code",
   "execution_count": 19,
   "metadata": {},
   "outputs": [
    {
     "data": {
      "text/plain": [
       "([[1, 1, 2], [2, 3], [3, 4]], [[1, 1, 1], [2, 2], [3, 3]])"
      ]
     },
     "execution_count": 19,
     "metadata": {},
     "output_type": "execute_result"
    }
   ],
   "source": [
    "# Por último, esta función va colocando las filas ya ordenadas por creaPQaux hasta formar los tableaux\n",
    "\n",
    "\n",
    "def creaPQ(M):\n",
    "    D=matrx2perm(M)\n",
    "    aux1=[]\n",
    "    aux2=[]\n",
    "    D1=D[1]#esta es P\n",
    "    D2=D[0]#esa es Q\n",
    "    [B1,N1,B2,N2]=creaPQaux(D1,D2)\n",
    "    while len(N1)>0:\n",
    "        aux1=aux1+[B1]\n",
    "        aux2=aux2+[B2]\n",
    "        [B1,N1,B2,N2]=creaPQaux(N1,N2)\n",
    "    aux1=aux1+[B1]\n",
    "    aux2=aux2+[B2]\n",
    "\n",
    "    return (aux1,aux2)\n",
    "\n",
    "creaPQ(A)"
   ]
  },
  {
   "cell_type": "markdown",
   "metadata": {},
   "source": [
    "## Presentación de los tableaux "
   ]
  },
  {
   "cell_type": "code",
   "execution_count": 28,
   "metadata": {},
   "outputs": [],
   "source": [
    "# Aprovecharemos que Sage trae integrado una biblioteca para el estudio de los tableaux para poder visualizar nuestro resultado\n",
    "# de forma más cómoda\n",
    "\n",
    "\n",
    "def generaTabP(M):\n",
    "    t0=SemistandardTableau(creaPQ(M)[0])\n",
    "\n",
    "    return (t0.pp())\n",
    "\n",
    "\n",
    "def generaTabQ(M):\n",
    "\n",
    "    t1=SemistandardTableau(creaPQ(M)[1])\n",
    "    return (t1.pp())\n",
    "\n"
   ]
  },
  {
   "cell_type": "markdown",
   "metadata": {},
   "source": [
    "### Tableau P "
   ]
  },
  {
   "cell_type": "code",
   "execution_count": 26,
   "metadata": {},
   "outputs": [
    {
     "name": "stdout",
     "output_type": "stream",
     "text": [
      "  1  1  2\n",
      "  2  3\n",
      "  3  4\n"
     ]
    }
   ],
   "source": [
    "generaTabP(A)"
   ]
  },
  {
   "cell_type": "markdown",
   "metadata": {},
   "source": [
    "### Tableau Q "
   ]
  },
  {
   "cell_type": "code",
   "execution_count": 27,
   "metadata": {},
   "outputs": [
    {
     "name": "stdout",
     "output_type": "stream",
     "text": [
      "  1  1  1\n",
      "  2  2\n",
      "  3  3\n"
     ]
    }
   ],
   "source": [
    "generaTabQ(A)"
   ]
  }
 ],
 "metadata": {
  "kernelspec": {
   "display_name": "SageMath 9.2",
   "language": "sage",
   "name": "sagemath"
  },
  "language_info": {
   "codemirror_mode": {
    "name": "ipython",
    "version": 3
   },
   "file_extension": ".py",
   "mimetype": "text/x-python",
   "name": "python",
   "nbconvert_exporter": "python",
   "pygments_lexer": "ipython3",
   "version": "3.7.7"
  }
 },
 "nbformat": 4,
 "nbformat_minor": 4
}
